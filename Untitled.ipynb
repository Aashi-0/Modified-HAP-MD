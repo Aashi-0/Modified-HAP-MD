{
 "cells": [
  {
   "cell_type": "markdown",
   "id": "9050637c",
   "metadata": {},
   "source": [
    "# VMD commands"
   ]
  },
  {
   "cell_type": "code",
   "execution_count": 3,
   "id": "96fbafd1",
   "metadata": {},
   "outputs": [
    {
     "ename": "SyntaxError",
     "evalue": "invalid syntax (298828051.py, line 5)",
     "output_type": "error",
     "traceback": [
      "\u001b[0;36m  Cell \u001b[0;32mIn[3], line 5\u001b[0;36m\u001b[0m\n\u001b[0;31m    vmd -dispdev text\u001b[0m\n\u001b[0m                 ^\u001b[0m\n\u001b[0;31mSyntaxError\u001b[0m\u001b[0;31m:\u001b[0m invalid syntax\n"
     ]
    }
   ],
   "source": [
    "# If you had installed the VMD correctly, the below command would open GUI of VMD\n",
    "!vmd\n"
   ]
  },
  {
   "cell_type": "code",
   "execution_count": 4,
   "id": "6c543528",
   "metadata": {},
   "outputs": [
    {
     "ename": "SyntaxError",
     "evalue": "invalid syntax (3222151695.py, line 2)",
     "output_type": "error",
     "traceback": [
      "\u001b[0;36m  Cell \u001b[0;32mIn[4], line 2\u001b[0;36m\u001b[0m\n\u001b[0;31m    vmd -dispdev text\u001b[0m\n\u001b[0m                 ^\u001b[0m\n\u001b[0;31mSyntaxError\u001b[0m\u001b[0;31m:\u001b[0m invalid syntax\n"
     ]
    }
   ],
   "source": [
    "# It could also be run in text mode also\n",
    "vmd -dispdev text\n",
    "\n",
    "# To load file \n",
    "mol new file1.psf\n",
    "mol addfile file1.pdb"
   ]
  },
  {
   "cell_type": "code",
   "execution_count": 5,
   "id": "c61793ad",
   "metadata": {},
   "outputs": [
    {
     "ename": "SyntaxError",
     "evalue": "invalid syntax (599652545.py, line 2)",
     "output_type": "error",
     "traceback": [
      "\u001b[0;36m  Cell \u001b[0;32mIn[5], line 2\u001b[0;36m\u001b[0m\n\u001b[0;31m    vmd path/to/file1.psf path/to/file1.pdb\u001b[0m\n\u001b[0m        ^\u001b[0m\n\u001b[0;31mSyntaxError\u001b[0m\u001b[0;31m:\u001b[0m invalid syntax\n"
     ]
    }
   ],
   "source": [
    "# To directly load psf pdb file into vmd\n",
    "vmd path/to/file1.psf path/to/file1.pdb\n"
   ]
  },
  {
   "cell_type": "code",
   "execution_count": 6,
   "id": "288727b3",
   "metadata": {},
   "outputs": [
    {
     "ename": "SyntaxError",
     "evalue": "invalid syntax (1476629397.py, line 2)",
     "output_type": "error",
     "traceback": [
      "\u001b[0;36m  Cell \u001b[0;32mIn[6], line 2\u001b[0;36m\u001b[0m\n\u001b[0;31m    set a [atomelect top all]\u001b[0m\n\u001b[0m        ^\u001b[0m\n\u001b[0;31mSyntaxError\u001b[0m\u001b[0;31m:\u001b[0m invalid syntax\n"
     ]
    }
   ],
   "source": [
    "# To find the size fo the system\n",
    "\n",
    "set a [atomelect top all]\n",
    "set min [lindex [measure minmax $a] 0]\n",
    "set max [lindex [measure minmax $a] 1]\n",
    "vecsub $max $min\n",
    "puts \"THE SIZE OF THE BOX IS: [vecsub $max $min]\"\n",
    "puts “THE CENTER OF THE SYSTEM IS: [measure center $a]”\n",
    "     \n",
    "                            OR\n",
    "\n",
    "set a [atomselect top all]\n",
    "set min [lindex [measure minmax $a] 0]\n",
    "set max [lindex [measure minmax $a] 1]\n",
    "set x_min [lindex $min 0]\n",
    "set y_min [lindex $min 1]\n",
    "set z_min [lindex $min 2]\n",
    "set x_max [lindex $max 0]\n",
    "set y_max [lindex $max 1]\n",
    "set z_max [lindex $max 2]\n",
    "set x_size [expr $x_max - $x_min]\n",
    "set y_size [expr $y_max - $y_min]\n",
    "set z_size [expr $z_max - $z_min]\n",
    "set size [list $x_size $y_size $z_size]\n",
    "puts \"THE SIZE OF THE BOX IS: $size\"\n",
    "puts “THE CENTER OF THE SYSTEM IS: [measure center $a]”\n"
   ]
  },
  {
   "cell_type": "code",
   "execution_count": null,
   "id": "73722dca",
   "metadata": {},
   "outputs": [],
   "source": [
    "# To find the center of the system\n",
    "\n",
    "set a [atomselect top all]\n",
    "puts “THE CENTER OF THE SYSTEM IS: [measure center $a]”"
   ]
  },
  {
   "cell_type": "code",
   "execution_count": null,
   "id": "086df52b",
   "metadata": {},
   "outputs": [],
   "source": [
    "# To move center of the system to origin:\n",
    "\n",
    "set spa [atomselect top protein]\n",
    "measure center $a (geometric center)\n",
    "$a moveby [vecinvert [measure center $a]]\n",
    "$spa writepdb spa.pdb\n"
   ]
  },
  {
   "cell_type": "code",
   "execution_count": null,
   "id": "2d3a70af",
   "metadata": {},
   "outputs": [],
   "source": [
    "# To measure center of mass:\n",
    "\n",
    "set spa [atomselect top protein]\n",
    "measure center $spa weight mass\n"
   ]
  },
  {
   "cell_type": "code",
   "execution_count": 7,
   "id": "eca1b21b",
   "metadata": {},
   "outputs": [
    {
     "ename": "SyntaxError",
     "evalue": "invalid syntax (3798531272.py, line 2)",
     "output_type": "error",
     "traceback": [
      "\u001b[0;36m  Cell \u001b[0;32mIn[7], line 2\u001b[0;36m\u001b[0m\n\u001b[0;31m    set spa [atomselect top all]\u001b[0m\n\u001b[0m        ^\u001b[0m\n\u001b[0;31mSyntaxError\u001b[0m\u001b[0;31m:\u001b[0m invalid syntax\n"
     ]
    }
   ],
   "source": [
    "# For aligning the pulling direction with Z axis:\n",
    "\n",
    "set spa [atomselect top all]\n",
    "set fixedatom [atomselect top “resid 1 and name CA”]\n",
    "set smdatom [atomselect top “resid 59 and name CA”]\n",
    "set smdpos [lindex [$smdatom get {x y z}] 0]\n",
    "set fixedpos [lindex [$fixedatom get {x y z}] 0]\n",
    "set pulldir [vecnorm [vessub $smdpos $fixedpos]]\n",
    "set m [transvecinv $pulldir]\n",
    "$spa move $m\n",
    "set m [transaxis y -90]\n",
    "$spa move $m\n",
    "$spa writepdb $spa_z.pdb\n",
    "(This performs your task in two steps: transvec inv rotates your vector to be along the \n",
    " x-axis, and then transaxis rotates about the y axis to align your vector with z)\n"
   ]
  },
  {
   "cell_type": "code",
   "execution_count": null,
   "id": "7cf92247",
   "metadata": {},
   "outputs": [],
   "source": [
    "# For total charge of the system\n",
    "\n",
    "set sel [atomselect top all]\n",
    "eval vecadd [$sel get charge]\n"
   ]
  },
  {
   "cell_type": "code",
   "execution_count": null,
   "id": "0774812e",
   "metadata": {},
   "outputs": [],
   "source": [
    "# To find cell basis vector\n",
    "\n",
    "To find cell basis vector:\n",
    "proc get_cell {{molid top}} {\n",
    "set all [atomselect $molid all]\n",
    "set minmax [measure minmax $all]\n",
    "set vec [vecsub [lindex $minmax 1] [lindex $minmax 0]]\n",
    "puts \"cellBasisVector1 [lindex $vec 0] 0 0\"\n",
    "puts \"cellBasisVector2 0 [lindex $vec 1] 0\"\n",
    "puts \"cellBasisVector3 0 0 [lindex $vec 2]\"\n",
    "set center [measure center $all]\n",
    "puts \"cellOrigin $center\"\n",
    "$all delete\n",
    "}"
   ]
  },
  {
   "cell_type": "code",
   "execution_count": null,
   "id": "497ef102",
   "metadata": {},
   "outputs": [],
   "source": [
    "# To select any slab\n",
    "\n",
    "set hap [atomselect top \"resname hap\"]\n",
    "\n",
    "# to select protein\n",
    "\n",
    "set a [atomselect top protein]"
   ]
  }
 ],
 "metadata": {
  "kernelspec": {
   "display_name": "Python 3 (ipykernel)",
   "language": "python",
   "name": "python3"
  },
  "language_info": {
   "codemirror_mode": {
    "name": "ipython",
    "version": 3
   },
   "file_extension": ".py",
   "mimetype": "text/x-python",
   "name": "python",
   "nbconvert_exporter": "python",
   "pygments_lexer": "ipython3",
   "version": "3.9.12"
  }
 },
 "nbformat": 4,
 "nbformat_minor": 5
}
