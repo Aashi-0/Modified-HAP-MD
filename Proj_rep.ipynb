{
 "cells": [
  {
   "cell_type": "markdown",
   "id": "ea5fea91",
   "metadata": {},
   "source": [
    "# Introduction to MOLECULAR DYNAMICS\n",
    "\n",
    "Molecular dynamics (MD) is a computational simulation technique used to study the behavior and \n",
    "movement of atoms and molecules over time. It allows researchers to observe the motion of molecules \n",
    "and the interactions between them, which can provide insight into a wide range of phenomena, including chemical \n",
    "reactions, protein folding, and material properties.In MD simulations, the positions, velocities, and forces acting on individual atoms or molecules are calculated over a period of time using numerical methods. These calculations are based on the laws of classical mechanics, which describe how particles move and interact with each other. By simulating the behavior of molecules at the atomic level, researchers can gain a deeper understanding of the physical and chemical properties of materials and biological systems.\n",
    "\n",
    "We start with a little introduction to the topic of Molecular dynamics and simulation. Here are some good papers to go through for a better understanding:\n",
    "  \n",
    "  Paper1:  https://www.ncbi.nlm.nih.gov/pmc/articles/PMC6884151/\n",
    "  \n",
    "  Paper2: https://pubs.acs.org/doi/10.1021/acsbiomaterials.0c01285\n",
    "  \n",
    "  Blog: https://m2d2.io/blog/posts/an-introduction-to-molecular-dynamics-and-simulations/"
   ]
  },
  {
   "cell_type": "code",
   "execution_count": 31,
   "id": "d97e173e",
   "metadata": {
    "scrolled": true
   },
   "outputs": [
    {
     "name": "stdout",
     "output_type": "stream",
     "text": [
      "Charm++> No provisioning arguments specified. Running with a single PE.\n",
      "         Use +auto-provision to fully subscribe resources or +p1 to silence this message.\n",
      "Charm++: standalone mode (not using charmrun)\n",
      "Charm++> Running in Multicore mode: 1 threads (PEs)\n",
      "Charm++> Using recursive bisection (scheme 3) for topology aware partitions\n",
      "Converse/Charm++ Commit ID: v6.10.2-0-g7bf00fa-namd-charm-6.10.2-build-2020-Aug-05-556\n",
      "Warning> Randomization of virtual memory (ASLR) is turned on in the kernel, thread migration may not work! Run 'echo 0 > /proc/sys/kernel/randomize_va_space' as root to disable it, or try running with '+isomalloc_sync'.\n",
      "CharmLB> Load balancer assumes all CPUs are same.\n",
      "Charm++> Running on 1 hosts (1 sockets x 8 cores x 2 PUs = 16-way SMP)\n",
      "Charm++> cpu topology info is gathered in 0.000 seconds.\n",
      "Info: NAMD 2.14 for Linux-x86_64-multicore\n",
      "Info: \n",
      "Info: Please visit http://www.ks.uiuc.edu/Research/namd/\n",
      "Info: for updates, documentation, and support information.\n",
      "Info: \n",
      "Info: Please cite Phillips et al., J. Chem. Phys. 153:044130 (2020) doi:10.1063/5.0014475\n",
      "Info: in all publications reporting results obtained with NAMD.\n",
      "Info: \n",
      "Info: Based on Charm++/Converse 61002 for multicore-linux-x86_64-iccstatic\n",
      "Info: Built Mon Aug 24 10:08:36 CDT 2020 by jim on belfast.ks.uiuc.edu\n",
      "Info: 1 NAMD  2.14  Linux-x86_64-multicore  1    bpcl-comp  neeraj\n",
      "Info: Running on 1 processors, 1 nodes, 1 physical nodes.\n",
      "Info: CPU topology information available.\n",
      "Info: Charm++/Converse parallel runtime startup completed at 0.0143781 s\n",
      "CkLoopLib is used in SMP with simple dynamic scheduling (converse-level notification)\n",
      "FATAL ERROR: No simulation config file specified on command line.\n",
      "FATAL ERROR: No simulation config file specified on command line.\n",
      "[Partition 0][Node 0] End of program\n"
     ]
    }
   ],
   "source": [
    "!vmd_MACOSXARM64"
   ]
  },
  {
   "cell_type": "markdown",
   "id": "26ca5e8d",
   "metadata": {},
   "source": [
    "Now that we have an understanding of what MD is, let's dive into learning how to use this tool for simulating our \n",
    "molecules. \n",
    "For starting you will need a basic knowledge of command on how to operate a terminal. Basic bash commands like \n",
    "pwd, cd, ls, mkdir (and a few more) will be sufficient for us to begin. \n",
    "\n",
    "Here is the link to basic linux terminal commands:\n",
    "    https://ubuntu.com/tutorials/command-line-for-beginners#5-moving-and-manipulating-files"
   ]
  },
  {
   "cell_type": "markdown",
   "id": "9886bfac",
   "metadata": {},
   "source": [
    "Here I will be documenting for a macos system but anyone using linux can also follow this with a few changes here \n",
    "or there.\n",
    "\n",
    "My system specifications: macOS Monterey (version 12.1), MacBook Air (2020, M1), 8GB\n",
    "\n",
    "Download NAMD: https://www.ks.uiuc.edu/Development/Download/download.cgi?PackageName=NAMD (my version:MacOSX-x86_64)\n",
    "\n",
    "Download VMD: https://www.ks.uiuc.edu/Development/Download/download.cgi?PackageName=VMD \n",
    "(my version:MacOS X OpenGL (32-bit Intel x86)(Apple MacOS-X (10.4.7 to 10.13.x)with hardware OpenGL (native bundle)))\n",
    "\n",
    "To download the above files, the website will ask for a username and password. If you don't have one (which will be likely), you can create one by entering a username and password.\n",
    "\n"
   ]
  },
  {
   "cell_type": "markdown",
   "id": "3295a296",
   "metadata": {},
   "source": [
    "For people working on mac there can be some security issues in opening a third party app. Here is a site which helped me resolve the issue : ‘Unidentified developer’ error mac https:\n",
    "        //www.macworld.com/article/672947/how-to-open-a-mac-app-from-an-unidentified-developer.html\n",
    "Once you have made sure that both softwares are working on your system we will proceed further.\n",
    "\n",
    "Set up the above softwares by taking it out of the disk and putting them in the applications folder. If this creates a problem, the desktop or anywhere would work fine but you would need to remember the path of both to launch/use them via terminal. Create an alias for the above path so that you don't have to enter the whole path each time you want to launch. You can do it by going through the following link: https://stackoverflow.com/questions/7703041/editing-path-variable-on-mac"
   ]
  },
  {
   "cell_type": "markdown",
   "id": "c904c217",
   "metadata": {},
   "source": [
    "We will learn how to operate the softwares we have downloaded above by following a tutorial for which some files \n",
    "will need to be downloaded. The tutorial is quite detailed and would give you a full understanding of how to operate namd and vmd softwares. \n",
    "\n",
    "Tutorial pdf (for macOS/Linus): https://www.ks.uiuc.edu/Training/Tutorials/namd/namd-tutorial-unix.pdf\n",
    "\n",
    "Download files here: https://www.ks.uiuc.edu/Training/Tutorials/namd/namd-tutorial-files.zip"
   ]
  },
  {
   "cell_type": "markdown",
   "id": "bc93ee5e",
   "metadata": {},
   "source": [
    "In some sections of the tutorial a text editor and a graph plotter is required. NEdit and xmgrace are the ones used in there. To install the above you would need (for mac) to install macports (some systems have it preinstalled) for your system and then install xquartz for NEdit to work.\n",
    "\n",
    "Install macports by: https://guide.macports.org/\n",
    "\n",
    "Install xquartz using: https://www.xquartz.org\n",
    "\n",
    "After installing these NEdit and Xmgrace can easily be installed using the terminal.\n",
    "\n",
    "Install NEdit: https://ports.macports.org/port/nedit/\n",
    "\n",
    "Install xmgrace: http://www.phy.ohio.edu/~hadizade/blog_files/XmGrace_Mac.html\n",
    "\n",
    "An alternative for NEdit is using vi which is directly available on the terminal and can be accessed by simply typing vi and then the file name on the terminal."
   ]
  },
  {
   "cell_type": "markdown",
   "id": "552bcd16",
   "metadata": {},
   "source": [
    "Now that you have completed the tutorial and gained a good understanding of the components of MD, it is time to move on to our next task. We will now create a surface with which we can observe protein interaction. \n",
    "A basic outline of how we will do this is listed below."
   ]
  },
  {
   "cell_type": "markdown",
   "id": "26014dc4",
   "metadata": {},
   "source": [
    "1. We get the different surface potential from Interface Force Field developed by Hendrik henz's Lab\n",
    "2. Convert the structure file which is in car/mdf format to psf/pdb format which is compatible with NAMD and VMD.\n",
    "3. Repeat the surface structure in x and y direction so that we have greater area to study interaction of protein and surface.\n",
    "4. Get the structure file of protein which is also available on the internet.\n",
    "5. Use these files and simulate the interaction using VMD and NAMD.\n",
    "\n",
    "Let's get started!"
   ]
  },
  {
   "cell_type": "markdown",
   "id": "2bac0ceb",
   "metadata": {},
   "source": [
    "Simulation structures of many surfaces are available on the internet. We will work with hydroxyapatite (will be reffered to as hap from now on) as our surface. Download the zip file using https://bionanostructuresdotcom.files.wordpress.com/2016/02/interface_ff_1_5.zip\n",
    "This file contains various stucture and force field files from which we will select the one of our choice which meets our force field requirements too. After unzipping the file go to MODEL_DATABASE folder ---> HYDROXYAPATITE ---> hap_001_pH10_HPO4.car and hap_001_pH10_HPO4.mdf. These are the car and mdf files we will convert to pdb/psf in the next step. The force field we will use is also present in the above folder in the folder named FORCE_FIELDS. The charmm27_interface_v1_5.prm force field will be used by us. Both of these files will be used to convert our surface to the appropriate format.\n"
   ]
  },
  {
   "cell_type": "markdown",
   "id": "cf020b79",
   "metadata": {},
   "source": [
    "A converter tool will be used which will be found here: https://bionanostructuresdotcom.files.wordpress.com/2017/09/msi2namd2.zip\n",
    "Unzip the file and you can check out the contents to see that a program msi2namd.exe exits which we will soon use for the conversion. \n",
    "Use the following code :"
   ]
  },
  {
   "cell_type": "markdown",
   "id": "9a6697f2",
   "metadata": {},
   "source": [
    "### Before using the .exe file u need to give permission to use it ###\n",
    "\n",
    "chmod +x msi2namd.exe\n",
    "\n",
    "#########################3  3#############################   ###############################\n",
    "\n",
    "## make a corresponding folder with all the file\n",
    "## issue next command\n",
    "\n",
    "./msi2namd.exe -file hap_001_pH10_HPO4 -res hap -classII charmm27_interface_v1_5.prm -frc pcff_interface_v1_5.frc -output hap \n",
    "\n",
    "./msi2namd.exe: calls program to execute\n",
    "\n",
    "-file hap_001_pH10_HPO4: Gives file name to program\n",
    "\n",
    "-res hap: sets residue name as hap\n",
    "\n",
    "-classII charmm27_interface_v1_5.prm: gives force field file\n",
    "\n",
    "-output hap: sets output file as hap\n",
    "\n",
    "\n",
    "\n",
    "## following output would appear in terminal after successful conversion\n",
    "Running msi2namd v1.0.0 / 1 July 2015\n",
    "\n",
    " Forcefield file name: pcff_interface_v1_5.frc\n",
    " Output contains style flag hints\n",
    " System translated by: 0 0 0\n",
    " Reading car file: hap_001_pH10_HPO4.car\n",
    "  WARNING: Assuming non-triclinic unit cell\n",
    " Reading mdf file: hap_001_pH10_HPO4.mdf\n",
    "\n",
    " Reading parameter file\n",
    " Identified 96 impropers in parameter file\n",
    "\n",
    " Building internal coordinate lists\n",
    " 0 potential out-of-planes identified\n",
    "\n",
    " Reading forcefield file\n",
    "\n",
    " Getting mass values for this system\n",
    " Writing PDB file hap.pdb\n",
    " Writing PSF file hap.psf\n",
    "\n",
    "Normal program termination\n",
    "\n",
    "## compare the output (in vmd) with the files provided by the group and they appear similar\n",
    "###############################  ############## #######################################"
   ]
  },
  {
   "cell_type": "markdown",
   "id": "b70c25d3",
   "metadata": {},
   "source": [
    "Now you will have the converted files saved on your system with the name hap.psf and hap.pdb.\n",
    "The next step for us will be to increase the length and width of the slab (i.e increase the size in x and y direction.) The size is not changed in Z as we need only the surface.\n",
    "To increase the size, we have taken the original file moved it in the x direction first (i.e to the right) then in the -y direction (i.e downwards) and finally in the -x direction (i.e to the left). Please note here that for the second movement (i.e the block shifting downwards) we are using the first moved file (i.e the block shifted to the right) and so on.\n",
    "We are going to use VMD for this whole process and will be able to visualize the moved blocks too."
   ]
  },
  {
   "cell_type": "markdown",
   "id": "c7fdbb92",
   "metadata": {},
   "source": [
    "Now the question arises that by how much should we move the blocks such that there is no ovrelapping while also making sure that there remains no extra gap. Where are we going to find this special number? Well, the answer is simple we use Periodic Boundary Conditions (pbc). VMC by defaults reads wrong PBCs (it reads extra atoms for which we do not need to care about), so to get the correct values we write the following code in the tkConsole of VMD main window.\n",
    "Trying git here!!!"
   ]
  },
  {
   "cell_type": "markdown",
   "id": "1024382b",
   "metadata": {},
   "source": []
  }
 ],
 "metadata": {
  "kernelspec": {
   "display_name": "Python 3 (ipykernel)",
   "language": "python",
   "name": "python3"
  },
  "language_info": {
   "codemirror_mode": {
    "name": "ipython",
    "version": 3
   },
   "file_extension": ".py",
   "mimetype": "text/x-python",
   "name": "python",
   "nbconvert_exporter": "python",
   "pygments_lexer": "ipython3",
   "version": "3.9.13"
  }
 },
 "nbformat": 4,
 "nbformat_minor": 5
}
