{
 "cells": [
  {
   "cell_type": "markdown",
   "id": "f1523ec2",
   "metadata": {},
   "source": [
    "# INTRODUCTION TO MOLECULAR DYNAMICS"
   ]
  },
  {
   "cell_type": "markdown",
   "id": "ea5fea91",
   "metadata": {},
   "source": [
    "Molecular dynamics (MD) is a computational simulation technique used to study the behavior and \n",
    "movement of atoms and molecules over time. It allows researchers to observe the motion of molecules \n",
    "and the interactions between them, which can provide insight into a wide range of phenomena, including chemical \n",
    "reactions, protein folding, and material properties.In MD simulations, the positions, velocities, and forces acting on individual atoms or molecules are calculated over a period of time using numerical methods. These calculations are based on the laws of classical mechanics, which describe how particles move and interact with each other. By simulating the behavior of molecules at the atomic level, researchers can gain a deeper understanding of the physical and chemical properties of materials and biological systems."
   ]
  },
  {
   "cell_type": "markdown",
   "id": "514325f2",
   "metadata": {},
   "source": [
    "## 1. Reading material"
   ]
  },
  {
   "cell_type": "markdown",
   "id": "d152cd97",
   "metadata": {},
   "source": [
    "We start with a little introduction to the topic of Molecular dynamics and simulation. Here are some good papers to go through for a better understanding:\n",
    "  \n",
    "  Paper1:  https://www.ncbi.nlm.nih.gov/pmc/articles/PMC6884151/\n",
    "  \n",
    "  Paper2: https://pubs.acs.org/doi/10.1021/acsbiomaterials.0c01285\n",
    "  \n",
    "  Blog: https://m2d2.io/blog/posts/an-introduction-to-molecular-dynamics-and-simulations/"
   ]
  },
  {
   "cell_type": "markdown",
   "id": "26ca5e8d",
   "metadata": {},
   "source": [
    "Now that we have an understanding of what MD is, let's dive into learning how to use this tool for simulating our \n",
    "molecules. \n",
    "For starting you will need a basic knowledge of command on how to operate a terminal. Basic bash commands like \n",
    "pwd, cd, ls, mkdir (and a few more) will be sufficient for us to begin. \n",
    "\n",
    "Here is the link to basic linux terminal commands:\n",
    "    https://ubuntu.com/tutorials/command-line-for-beginners#5-moving-and-manipulating-files"
   ]
  },
  {
   "cell_type": "markdown",
   "id": "460ec7cf",
   "metadata": {},
   "source": [
    "## 2. Installation of useful softwares"
   ]
  },
  {
   "cell_type": "markdown",
   "id": "38ec57c9",
   "metadata": {},
   "source": [
    "### 2.1 For NAMD"
   ]
  },
  {
   "cell_type": "markdown",
   "id": "9886bfac",
   "metadata": {},
   "source": [
    "Here I will be documenting for a macos system but anyone using linux can also follow this with a few changes here \n",
    "or there.\n",
    "System specifications for MacBook can be found by running the command given below in the terminal. The output will be shown similar to the one given below."
   ]
  },
  {
   "cell_type": "code",
   "execution_count": 3,
   "id": "19a7579e",
   "metadata": {},
   "outputs": [
    {
     "name": "stdout",
     "output_type": "stream",
     "text": [
      "Software:\n",
      "\n",
      "    System Software Overview:\n",
      "\n",
      "      System Version: macOS 12.1 (21C52)\n",
      "      Kernel Version: Darwin 21.2.0\n",
      "      Boot Volume: Macintosh HD\n",
      "      Boot Mode: Normal\n",
      "      Computer Name: Aashi’s MacBook Air\n",
      "      User Name: Aashi Shrivastava (Aashi)\n",
      "      Secure Virtual Memory: Enabled\n",
      "      System Integrity Protection: Enabled\n",
      "      Time since boot: 4 days 17:51\n",
      "\n",
      "Hardware:\n",
      "\n",
      "    Hardware Overview:\n",
      "\n",
      "      Model Name: MacBook Air\n",
      "      Model Identifier: MacBookAir10,1\n",
      "      Processor Name: Unknown\n",
      "      Processor Speed: 2.4 GHz\n",
      "      Number of Processors: 1\n",
      "      Total Number of Cores: 8\n",
      "      L2 Cache: 8 MB\n",
      "      Memory: 8 GB\n",
      "      Serial Number (system): C02G73VSQ6LC\n",
      "      Hardware UUID: 1B503BA9-1B6B-52B4-AEDD-80690311C11B\n",
      "      Provisioning UDID: 1B503BA9-1B6B-52B4-AEDD-80690311C11B\n",
      "      Activation Lock Status: Disabled\n",
      "\n"
     ]
    }
   ],
   "source": [
    "#src = \"https://osxdaily.com/2022/02/02/find-mac-system-info-terminal-system-profiler/\"\n",
    "#for MacOS\n",
    "!system_profiler SPSoftwareDataType SPHardwareDataType"
   ]
  },
  {
   "cell_type": "markdown",
   "id": "4c1665c9",
   "metadata": {},
   "source": [
    "Download NAMD: https://www.ks.uiuc.edu/Development/Download/download.cgi?PackageName=NAMD (my version:MacOSX-x86_64)\n",
    "The following output should be shown on the terminal to confirm the correct installation of the software."
   ]
  },
  {
   "cell_type": "code",
   "execution_count": 4,
   "id": "239b042f",
   "metadata": {},
   "outputs": [
    {
     "name": "stdout",
     "output_type": "stream",
     "text": [
      "Charm++> No provisioning arguments specified. Running with a single PE.\n",
      "         Use +auto-provision to fully subscribe resources or +p1 to silence this message.\n",
      "Charm++: standalone mode (not using charmrun)\n",
      "Charm++> Running in Multicore mode: 1 threads (PEs)\n",
      "Charm++> Using recursive bisection (scheme 3) for topology aware partitions\n",
      "Converse/Charm++ Commit ID: v6.10.2-0-g7bf00fa-namd-charm-6.10.2-build-2020-Aug-05-556\n",
      "CharmLB> Load balancer assumes all CPUs are same.\n",
      "Charm++> Running on 1 hosts (1 sockets x 8 cores x 1 PUs = 8-way SMP)\n",
      "Charm++> cpu topology info is gathered in 0.003 seconds.\n",
      "Info: NAMD 2.14 for MacOSX-x86_64-multicore\n",
      "Info: \n",
      "Info: Please visit http://www.ks.uiuc.edu/Research/namd/\n",
      "Info: for updates, documentation, and support information.\n",
      "Info: \n",
      "Info: Please cite Phillips et al., J. Chem. Phys. 153:044130 (2020) doi:10.1063/5.0014475\n",
      "Info: in all publications reporting results obtained with NAMD.\n",
      "Info: \n",
      "Info: Based on Charm++/Converse 61002 for multicore-darwin-x86_64\n",
      "Info: Built Wed Aug 5 13:07:16 CDT 2020 by jim on malaga.ks.uiuc.edu\n",
      "Info: 1 NAMD  2.14  MacOSX-x86_64-multicore  1    Aashis-MacBook-Air.local  Aashi\n",
      "Info: Running on 1 processors, 1 nodes, 1 physical nodes.\n",
      "Info: CPU topology information available.\n",
      "Info: Charm++/Converse parallel runtime startup completed at 0.00697038 s\n",
      "CkLoopLib is used in SMP with simple dynamic scheduling (converse-level notification)\n",
      "FATAL ERROR: No simulation config file specified on command line.\n",
      "FATAL ERROR: No simulation config file specified on command line.\n",
      "[Partition 0][Node 0] End of program\n"
     ]
    }
   ],
   "source": [
    "!namd2"
   ]
  },
  {
   "cell_type": "markdown",
   "id": "abf70560",
   "metadata": {},
   "source": [
    "### 2.2 For VMD\n",
    "Download VMD: https://www.ks.uiuc.edu/Development/Download/download.cgi?PackageName=VMD \n",
    "(my version:MacOS X OpenGL (32-bit Intel x86)(Apple MacOS-X (10.4.7 to 10.13.x)with hardware OpenGL (native bundle)))\n",
    "\n",
    "To download the above files, the website will ask for a username and password. If you don't have one (which will be likely), you can create one by entering a username and password. \n",
    "\n",
    "The following output should be shown on the terminal to confirm the correct installation of the software."
   ]
  },
  {
   "cell_type": "code",
   "execution_count": 2,
   "id": "ca9047f9",
   "metadata": {},
   "outputs": [
    {
     "name": "stdout",
     "output_type": "stream",
     "text": [
      "Info) VMD for MACOSXARM64, version 1.9.4a57 (April 27, 2022)\n",
      "Info) http://www.ks.uiuc.edu/Research/vmd/                         \n",
      "Info) Email questions and bug reports to vmd@ks.uiuc.edu           \n",
      "Info) Please include this reference in published work using VMD:   \n",
      "Info)    Humphrey, W., Dalke, A. and Schulten, K., `VMD - Visual   \n",
      "Info)    Molecular Dynamics', J. Molec. Graphics 1996, 14.1, 33-38.\n",
      "Info) -------------------------------------------------------------\n",
      "Info) Multithreading available, 8 CPUs, ISA dispatch enabled.\n",
      "Info) High-DPI OpenGL display support enabled.\n",
      "Info) OpenGL renderer: Apple M1\n",
      "Info)   Features: STENCIL MDE MTX NPOT PP PS GLSL(OVF) \n",
      "Info)   Full GLSL rendering mode is available.\n",
      "Info)   Textures: 2-D (16384x16384), 3-D (2048x2048x2048), Multitexture (8)\n",
      "Info) Dynamically loaded 1 plugins in directory:\n",
      "Info) /Users/Aashi/Desktop/VMD 1.9.4a57-arm64-Rev12.app/Contents/vmd/plugins/MACOSXARM64/molfile\n",
      "vmd > "
     ]
    }
   ],
   "source": [
    "!vmd_MACOSXARM64"
   ]
  },
  {
   "cell_type": "markdown",
   "id": "3295a296",
   "metadata": {},
   "source": [
    "For people working on mac there can be some security issues in opening a third party app. Here is a site which helped me resolve the issue : ‘Unidentified developer’ error mac https:\n",
    "        //www.macworld.com/article/672947/how-to-open-a-mac-app-from-an-unidentified-developer.html\n",
    "Once you have made sure that both softwares are working on your system we will proceed further.\n",
    "\n",
    "Set up the above softwares by taking it out of the disk and putting them in the applications folder. If this creates a problem, the desktop or anywhere would work fine but you would need to remember the path of both to launch/use them via terminal. Create an alias for the above path so that you don't have to enter the whole path each time you want to launch. You can do it by going through the following link: https://stackoverflow.com/questions/7703041/editing-path-variable-on-mac"
   ]
  },
  {
   "cell_type": "markdown",
   "id": "8bb679ce",
   "metadata": {},
   "source": [
    "### 2.3 For NEdit, XmGrace\n",
    "The following softwares need to be in our system to read files like psf, pdf files and to plot, visulaize our data graphically. \n",
    "\n",
    "In some sections of the tutorial a text editor and a graph plotter is required. NEdit and xmgrace are the ones used in there. To install the above you would need (for mac) to install macports (some systems have it preinstalled) for your system and then install xquartz for NEdit to work.\n",
    "\n",
    "Install macports by: https://guide.macports.org/\n",
    "\n",
    "Install xquartz using: https://www.xquartz.org\n",
    "\n",
    "After installing these NEdit and Xmgrace can easily be installed using the terminal.\n",
    "\n",
    "Install NEdit: https://ports.macports.org/port/nedit/\n",
    "\n",
    "Install xmgrace: http://www.phy.ohio.edu/~hadizade/blog_files/XmGrace_Mac.html\n",
    "\n",
    "An alternative for NEdit is using vi which is directly available on the terminal and can be accessed by simply typing vi and then the file name on the terminal."
   ]
  },
  {
   "cell_type": "markdown",
   "id": "a56db0d7",
   "metadata": {},
   "source": [
    "## 3. Following the tutorial"
   ]
  },
  {
   "cell_type": "markdown",
   "id": "c904c217",
   "metadata": {},
   "source": [
    "We will learn how to operate the softwares we have downloaded above by following a tutorial for which some files \n",
    "will need to be downloaded. The tutorial is quite detailed and would give you a full understanding of how to operate namd and vmd softwares. \n",
    "\n",
    "Tutorial pdf (for macOS/Linus): https://www.ks.uiuc.edu/Training/Tutorials/namd/namd-tutorial-unix.pdf\n",
    "\n",
    "Download files here: https://www.ks.uiuc.edu/Training/Tutorials/namd/namd-tutorial-files.zip"
   ]
  },
  {
   "cell_type": "markdown",
   "id": "bc93ee5e",
   "metadata": {},
   "source": [
    "In some sections of the tutorial a text editor and a graph plotter is required. NEdit and xmgrace are the ones used in there. To install the above you would need (for mac) to install macports (some systems have it preinstalled) for your system and then install xquartz for NEdit to work.\n",
    "\n",
    "Install macports by: https://guide.macports.org/\n",
    "\n",
    "Install xquartz using: https://www.xquartz.org\n",
    "\n",
    "After installing these NEdit and Xmgrace can easily be installed using the terminal.\n",
    "\n",
    "Install NEdit: https://ports.macports.org/port/nedit/\n",
    "\n",
    "Install xmgrace: http://www.phy.ohio.edu/~hadizade/blog_files/XmGrace_Mac.html\n",
    "\n",
    "An alternative for NEdit is using vi which is directly available on the terminal and can be accessed by simply typing vi and then the file name on the terminal."
   ]
  },
  {
   "cell_type": "code",
   "execution_count": 1,
   "id": "b4ba617b",
   "metadata": {},
   "outputs": [
    {
     "name": "stdout",
     "output_type": "stream",
     "text": [
      "locale not supported by Xlib, locale set to C\r\n"
     ]
    }
   ],
   "source": [
    "!nedit # write filename after !nedit to directly open file"
   ]
  },
  {
   "cell_type": "code",
   "execution_count": 2,
   "id": "3ffcddd7",
   "metadata": {},
   "outputs": [
    {
     "name": "stdout",
     "output_type": "stream",
     "text": [
      "Warning: locale not supported by Xlib, locale set to C\n",
      "X connection to /private/tmp/com.apple.launchd.ot9LVME7fK/org.xquartz:0 broken (explicit kill or server shutdown).\n"
     ]
    }
   ],
   "source": [
    "!xmgrace # write filename after !xmgrace to directly open file"
   ]
  },
  {
   "cell_type": "markdown",
   "id": "0e6153ec",
   "metadata": {},
   "source": [
    "## 4. Our task - Simulation of surface and proteins"
   ]
  },
  {
   "cell_type": "markdown",
   "id": "552bcd16",
   "metadata": {},
   "source": [
    "Now that you have completed the tutorial and gained a good understanding of the components of MD, it is time to move on to our next task. We will now create a surface with which we can observe protein interaction. \n",
    "A basic outline of how we will do this is listed below."
   ]
  },
  {
   "cell_type": "markdown",
   "id": "26014dc4",
   "metadata": {},
   "source": [
    "1. We get the different surface potential from Interface Force Field developed by Hendrik henz's Lab\n",
    "2. Convert the structure file which is in car/mdf format to psf/pdb format which is compatible with NAMD and VMD.\n",
    "3. Repeat the surface structure in x and y direction so that we have greater area to study interaction of protein and surface.\n",
    "4. Get the structure file of protein which is also available on the internet.\n",
    "5. Use these files and simulate the interaction using VMD and NAMD.\n",
    "\n",
    "Let's get started!"
   ]
  },
  {
   "cell_type": "markdown",
   "id": "2bac0ceb",
   "metadata": {},
   "source": [
    "Simulation structures of many surfaces are available on the internet. We will work with hydroxyapatite (will be reffered to as hap from now on) as our surface. Download the zip file using https://bionanostructuresdotcom.files.wordpress.com/2016/02/interface_ff_1_5.zip\n",
    "This file contains various stucture and force field files from which we will select the one of our choice which meets our force field requirements too. After unzipping the file go to MODEL_DATABASE folder ---> HYDROXYAPATITE ---> hap_001_pH10_HPO4.car and hap_001_pH10_HPO4.mdf. These are the car and mdf files we will convert to pdb/psf in the next step. The force field we will use is also present in the above folder in the folder named FORCE_FIELDS. The charmm27_interface_v1_5.prm force field will be used by us. Both of these files will be used to convert our surface to the appropriate format.\n"
   ]
  },
  {
   "cell_type": "markdown",
   "id": "cf020b79",
   "metadata": {},
   "source": [
    "A converter tool will be used which will be found here: https://bionanostructuresdotcom.files.wordpress.com/2017/09/msi2namd2.zip\n",
    "Unzip the file and you can check out the contents to see that a program msi2namd.exe exits which we will soon use for the conversion. \n",
    "Use the following code :"
   ]
  },
  {
   "cell_type": "markdown",
   "id": "e9b7a72b",
   "metadata": {},
   "source": [
    "Before using the .exe file u need to give permission to use it\n"
   ]
  },
  {
   "cell_type": "code",
   "execution_count": null,
   "id": "ed6157ef",
   "metadata": {},
   "outputs": [],
   "source": [
    "chmod +x msi2namd.exe"
   ]
  },
  {
   "cell_type": "markdown",
   "id": "b522f71e",
   "metadata": {},
   "source": [
    "Make a corresponding folder with all the file\n",
    "issue next command"
   ]
  },
  {
   "cell_type": "code",
   "execution_count": null,
   "id": "0e97f166",
   "metadata": {},
   "outputs": [],
   "source": [
    "./msi2namd.exe -file hap_001_pH10_HPO4 -res hap -classII charmm27_interface_v1_5.prm -frc pcff_interface_v1_5.frc -output hap"
   ]
  },
  {
   "cell_type": "markdown",
   "id": "3d2c2b9b",
   "metadata": {},
   "source": [
    "./msi2namd.exe: calls program to execute\n",
    "\n",
    "-file hap_001_pH10_HPO4: Gives file name to program\n",
    "\n",
    "-res hap: sets residue name as hap\n",
    "\n",
    "-classII charmm27_interface_v1_5.prm: gives force field file\n",
    "\n",
    "-output hap: sets output file as hap\n",
    "\n",
    "\n",
    "Following output would appear in terminal after successful conversion"
   ]
  },
  {
   "cell_type": "code",
   "execution_count": null,
   "id": "21d234f1",
   "metadata": {},
   "outputs": [],
   "source": [
    "Running msi2namd v1.0.0 / 1 July 2015\n",
    "\n",
    " Forcefield file name: pcff_interface_v1_5.frc\n",
    " Output contains style flag hints\n",
    " System translated by: 0 0 0\n",
    " Reading car file: hap_001_pH10_HPO4.car\n",
    "  WARNING: Assuming non-triclinic unit cell\n",
    " Reading mdf file: hap_001_pH10_HPO4.mdf\n",
    "\n",
    " Reading parameter file\n",
    " Identified 96 impropers in parameter file\n",
    "\n",
    " Building internal coordinate lists\n",
    " 0 potential out-of-planes identified\n",
    "\n",
    " Reading forcefield file\n",
    "\n",
    " Getting mass values for this system\n",
    " Writing PDB file hap.pdb\n",
    " Writing PSF file hap.psf\n",
    "\n",
    "Normal program termination"
   ]
  },
  {
   "cell_type": "markdown",
   "id": "b70c25d3",
   "metadata": {},
   "source": [
    "Now you will have the converted files saved on your system with the name hap.psf and hap.pdb.\n",
    "The next step for us will be to increase the length and width of the slab (i.e increase the size in x and y direction.) The size is not changed in Z as we need only the surface.\n",
    "To increase the size, we have taken the original file moved it in the x direction first (i.e to the right) then in the -y direction (i.e downwards) and finally in the -x direction (i.e to the left). Please note here that for the second movement (i.e the block shifting downwards) we are using the first moved file (i.e the block shifted to the right) and so on.\n",
    "We are going to use VMD for this whole process and will be able to visualize the moved blocks too."
   ]
  },
  {
   "cell_type": "markdown",
   "id": "c7fdbb92",
   "metadata": {},
   "source": [
    "Now the question arises that by how much should we move the blocks such that there is no ovrelapping while also making sure that there remains no extra gap. Where are we going to find this number? Well, the answer is simple we use Periodic Boundary Conditions (pbc). VMC by defaults reads wrong PBCs (it reads extra atoms for which we do not need to care about), so to get the correct values we check the original .car file and then write the following code in the tkConsole of VMD main window, so as to correct the wrong values written by VMD."
   ]
  },
  {
   "cell_type": "code",
   "execution_count": null,
   "id": "8711c44e",
   "metadata": {},
   "outputs": [],
   "source": [
    "pbc set {37.6680 32.6214 127.5000 90.00 90.00 90.00} #check these coordinates according to your file\n",
    "set all [atomselect top all]\n",
    "$all writepdb bighap/vmd_hap.pdb\n",
    "$all writepsf bighap/vmd_hap.psf"
   ]
  },
  {
   "cell_type": "markdown",
   "id": "46b328b0",
   "metadata": {},
   "source": [
    "The next step is to shift these slabs by the appropriate coordinates and give them different segment names as VMD does not work when files have the same segment name. Load vmd_hap.psf and vmd_hap.pdb and in the TkConsole, the following code will shift our slab and make 3 separate pdb, psf files each for us to merge."
   ]
  },
  {
   "cell_type": "code",
   "execution_count": null,
   "id": "c9b218db",
   "metadata": {},
   "outputs": [],
   "source": [
    "## Now load vmd_si.pdb/vmd_si.psf in vmd and follow these \n",
    "set sel [atomselect top \"segname hap\"]\n",
    "$sel set segname 0HAP\n",
    "$sel writepdb 0.pdb\n",
    "$sel writepsf 0.psf\n",
    "#this selects all our required atoms to be shifted in the next step"
   ]
  },
  {
   "cell_type": "code",
   "execution_count": null,
   "id": "6644c69b",
   "metadata": {},
   "outputs": [],
   "source": [
    "## for making a larger slab load 0.psf 0.pdb and follow these\n",
    "set all [atomselect top all]\n",
    "$all moveby {37.6680 0.0 0.0} #check the above periodic boundary condition to match with your file\n",
    "$all set segname 1HAP\n",
    "$all writepdb 1.pdb\n",
    "$all writepsf 1.psf\n",
    "\n",
    "$all set segname 2HAP\n",
    "$all moveby {0.0 32.6214 0.0} #check coordinates\n",
    "$all writepdb 2.pdb\n",
    "$all wrutepsf 2.psf\n",
    "\n",
    "$all set segname 3HAP\n",
    "$all moveby {-37.6680 0.0 0.0} #check coordinates\n",
    "$all writepdb 3.pdb\n",
    "$all writepsf 3.psf\n",
    "# we do not want any expanding in the z-direction, hence those coordinates are not taken into consideration"
   ]
  },
  {
   "cell_type": "markdown",
   "id": "8f484b9b",
   "metadata": {},
   "source": [
    "We have all our files ready, we will now merge the above four files to get our extended slab.\n",
    "(There was some problem in this merging in my system, so I used a system with linux for this step.)\n",
    "\n",
    "open vmd -> vmd main window -> Extension -> Modelling -> Merge Structures\n",
    " \n",
    " merge 0 and 1 to make 0-1\n",
    " \n",
    " merge 2 and 3 to make 2-3\n",
    " \n",
    " merge 0-1 and 2-3 to make big_hap\n",
    " \n",
    "You can check the charges and the mass in the final and initial files for conforming that the files have been merged successfully. Manually setting the correct PBCs for our expanded file."
   ]
  },
  {
   "cell_type": "code",
   "execution_count": null,
   "id": "c76e30c0",
   "metadata": {},
   "outputs": [],
   "source": [
    "mol new big_hap.psf\n",
    "mol addfile big_hap.pdb\n",
    "pbc set {75.32 65.2428 127.5000 90.00 90.00 90.00} \n",
    "#check the above coordinates and multiply by 2\n",
    "##leaving the z-coordinate unchanged as we made no changes in that direction\n",
    "set all [atomselect top all]\n",
    "$all moveby [vecinvert [measure center $all]]\n",
    "$all writepdb big_hap.pdb\n",
    "$all writepsf big_hap.psf"
   ]
  },
  {
   "cell_type": "markdown",
   "id": "ef8e6dff",
   "metadata": {},
   "source": [
    "By now we have only placed the slabs next to each other at the correct place. Our next target is to create bonds across these blocks to get a uniform structure."
   ]
  },
  {
   "cell_type": "code",
   "execution_count": null,
   "id": "6c29912d",
   "metadata": {},
   "outputs": [],
   "source": [
    "# How to create bonds across these blocks fro uniform structure \n",
    "# main>>extesion>>modelling>>inorganic builder>>task>>add bonds\n",
    "## you can leave this section\n",
    "load big_si.psf and big_si.pdb\n",
    "Ignore existing bonds, build only specified bonds\n",
    "periodic in A B C\n",
    "output si\n",
    "Click Add bons\n",
    "0 OC23 SC4 1.800\n",
    "1 OC24 SC4 1.800\n",
    "2 OC24 HOY 1.000\n",
    "###### OC23 burried inside oxygen, 0C24 on the surface, HOY is hydrogen, SC4 is silicon\n",
    "!!!!!!!!!!!!!!!!!!! VOILA  !!!!!!!!!!!!!!!!!!!1\n",
    "YOU MADE YOUR FINAL SILICA SLAB"
   ]
  }
 ],
 "metadata": {
  "kernelspec": {
   "display_name": "Python 3 (ipykernel)",
   "language": "python",
   "name": "python3"
  },
  "language_info": {
   "codemirror_mode": {
    "name": "ipython",
    "version": 3
   },
   "file_extension": ".py",
   "mimetype": "text/x-python",
   "name": "python",
   "nbconvert_exporter": "python",
   "pygments_lexer": "ipython3",
   "version": "3.9.13"
  }
 },
 "nbformat": 4,
 "nbformat_minor": 5
}
