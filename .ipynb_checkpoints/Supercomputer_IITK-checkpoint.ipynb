{
 "cells": [
  {
   "cell_type": "markdown",
   "id": "950efa56",
   "metadata": {},
   "source": [
    "# Guide to use Supercomputer at IITK"
   ]
  },
  {
   "cell_type": "markdown",
   "id": "5698d547",
   "metadata": {},
   "source": [
    "### Currently IIT Kanpur have following super computers:\n",
    "#### 1. HPC2010 and HPC2013 (https://www.hpc.iitk.ac.in/#hpc)\n",
    "#### 2. NSM Param sanganak (https://www.hpc.iitk.ac.in/paramsanganak/)\n",
    "\n",
    "#### All the information related to mannual, application form for HPC could be accessed through this link: https://www.hpc.iitk.ac.in/HPC/. For NSM Param sanganak refer to this link: https://www.hpc.iitk.ac.in/paramsanganak/. For getting access to any of the above you need to fill application and R&D form, which need to be submitted to Dak Cell, DORD. Later collect the receipt from Dak Cell and submit it in CC to Mr. Abhay Verma. "
   ]
  },
  {
   "cell_type": "markdown",
   "id": "7c7979c3",
   "metadata": {},
   "source": [
    "## HOW TO ACCESS HPC2013"
   ]
  },
  {
   "cell_type": "code",
   "execution_count": null,
   "id": "3f07b056",
   "metadata": {},
   "outputs": [],
   "source": [
    "# Use the following command in terminal to access HPC2013/2010.\n",
    "# For HPC2013:\n",
    "ssh -X <username>@hpc2013.hpc.iitk.ac.in\n",
    "\n",
    "# For HPC2010:\n",
    "ssh -X <username>@hpc2010.hpc.iitk.ac.in"
   ]
  },
  {
   "cell_type": "code",
   "execution_count": null,
   "id": "60c468fc",
   "metadata": {},
   "outputs": [],
   "source": []
  }
 ],
 "metadata": {
  "kernelspec": {
   "display_name": "Python 3 (ipykernel)",
   "language": "python",
   "name": "python3"
  },
  "language_info": {
   "codemirror_mode": {
    "name": "ipython",
    "version": 3
   },
   "file_extension": ".py",
   "mimetype": "text/x-python",
   "name": "python",
   "nbconvert_exporter": "python",
   "pygments_lexer": "ipython3",
   "version": "3.9.12"
  }
 },
 "nbformat": 4,
 "nbformat_minor": 5
}
