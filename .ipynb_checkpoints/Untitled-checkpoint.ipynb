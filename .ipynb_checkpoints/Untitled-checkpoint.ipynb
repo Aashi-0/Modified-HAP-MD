{
 "cells": [
  {
   "cell_type": "markdown",
   "id": "4c9c20a7",
   "metadata": {},
   "source": [
    "# Software Installation"
   ]
  },
  {
   "cell_type": "markdown",
   "id": "5d1fa6e9",
   "metadata": {},
   "source": [
    "## 1. For Linux system"
   ]
  },
  {
   "cell_type": "code",
   "execution_count": 1,
   "id": "c741d4a1",
   "metadata": {},
   "outputs": [
    {
     "name": "stdout",
     "output_type": "stream",
     "text": [
      "No LSB modules are available.\r\n",
      "Distributor ID:\tUbuntu\r\n",
      "Description:\tUbuntu 20.04.6 LTS\r\n",
      "Release:\t20.04\r\n",
      "Codename:\tfocal\r\n"
     ]
    }
   ],
   "source": [
    "# the following command would give you information about your system Operating System.\n",
    "\n",
    "!lsb_release -a"
   ]
  },
  {
   "cell_type": "code",
   "execution_count": 3,
   "id": "c1d2c4cb",
   "metadata": {},
   "outputs": [
    {
     "name": "stdout",
     "output_type": "stream",
     "text": [
      "16\r\n"
     ]
    }
   ],
   "source": [
    "# to check the number of cores on your system\n",
    "\n",
    "!nproc"
   ]
  },
  {
   "cell_type": "code",
   "execution_count": 14,
   "id": "f2354632",
   "metadata": {},
   "outputs": [
    {
     "name": "stdout",
     "output_type": "stream",
     "text": [
      "Architecture:                    x86_64\r\n",
      "CPU op-mode(s):                  32-bit, 64-bit\r\n",
      "Byte Order:                      Little Endian\r\n",
      "Address sizes:                   39 bits physical, 48 bits virtual\r\n",
      "CPU(s):                          16\r\n",
      "On-line CPU(s) list:             0-15\r\n",
      "Thread(s) per core:              2\r\n",
      "Core(s) per socket:              8\r\n",
      "Socket(s):                       1\r\n",
      "NUMA node(s):                    1\r\n",
      "Vendor ID:                       GenuineIntel\r\n",
      "CPU family:                      6\r\n",
      "Model:                           165\r\n",
      "Model name:                      Intel(R) Core(TM) i7-10700 CPU @ 2.90GHz\r\n",
      "Stepping:                        5\r\n",
      "CPU MHz:                         4599.902\r\n",
      "CPU max MHz:                     4800.0000\r\n",
      "CPU min MHz:                     800.0000\r\n",
      "BogoMIPS:                        5799.77\r\n",
      "Virtualization:                  VT-x\r\n",
      "L1d cache:                       256 KiB\r\n",
      "L1i cache:                       256 KiB\r\n",
      "L2 cache:                        2 MiB\r\n",
      "L3 cache:                        16 MiB\r\n",
      "NUMA node0 CPU(s):               0-15\r\n",
      "Vulnerability Itlb multihit:     KVM: Vulnerable\r\n",
      "Vulnerability L1tf:              Not affected\r\n",
      "Vulnerability Mds:               Not affected\r\n",
      "Vulnerability Meltdown:          Not affected\r\n",
      "Vulnerability Mmio stale data:   Mitigation; Clear CPU buffers; SMT vulnerable\r\n",
      "Vulnerability Retbleed:          Mitigation; Enhanced IBRS\r\n",
      "Vulnerability Spec store bypass: Mitigation; Speculative Store Bypass disabled v\r\n",
      "                                 ia prctl and seccomp\r\n",
      "Vulnerability Spectre v1:        Mitigation; usercopy/swapgs barriers and __user\r\n",
      "                                  pointer sanitization\r\n",
      "Vulnerability Spectre v2:        Mitigation; Enhanced IBRS, IBPB conditional, RS\r\n",
      "                                 B filling, PBRSB-eIBRS SW sequence\r\n",
      "Vulnerability Srbds:             Mitigation; Microcode\r\n",
      "Vulnerability Tsx async abort:   Not affected\r\n",
      "Flags:                           fpu vme de pse tsc msr pae mce cx8 apic sep mtr\r\n",
      "                                 r pge mca cmov pat pse36 clflush dts acpi mmx f\r\n",
      "                                 xsr sse sse2 ss ht tm pbe syscall nx pdpe1gb rd\r\n",
      "                                 tscp lm constant_tsc art arch_perfmon pebs bts \r\n",
      "                                 rep_good nopl xtopology nonstop_tsc cpuid aperf\r\n",
      "                                 mperf pni pclmulqdq dtes64 monitor ds_cpl vmx s\r\n",
      "                                 mx est tm2 ssse3 sdbg fma cx16 xtpr pdcm pcid s\r\n",
      "                                 se4_1 sse4_2 x2apic movbe popcnt tsc_deadline_t\r\n",
      "                                 imer aes xsave avx f16c rdrand lahf_lm abm 3dno\r\n",
      "                                 wprefetch cpuid_fault epb invpcid_single ssbd i\r\n",
      "                                 brs ibpb stibp ibrs_enhanced tpr_shadow vnmi fl\r\n",
      "                                 expriority ept vpid ept_ad fsgsbase tsc_adjust \r\n",
      "                                 bmi1 avx2 smep bmi2 erms invpcid mpx rdseed adx\r\n",
      "                                  smap clflushopt intel_pt xsaveopt xsavec xgetb\r\n",
      "                                 v1 xsaves dtherm ida arat pln pts hwp hwp_notif\r\n",
      "                                 y hwp_act_window hwp_epp pku ospke md_clear flu\r\n",
      "                                 sh_l1d arch_capabilities\r\n"
     ]
    }
   ],
   "source": [
    "# to check other details.\n",
    "\n",
    "!lscpu"
   ]
  },
  {
   "cell_type": "markdown",
   "id": "da4e30bc",
   "metadata": {},
   "source": [
    "## 1.1 To install VMD"
   ]
  },
  {
   "cell_type": "code",
   "execution_count": 12,
   "id": "1a7ba464",
   "metadata": {},
   "outputs": [
    {
     "data": {
      "text/html": [
       "<iframe width=\"900\" height=\"600\"\n",
       "src=\"https://www.youtube.com/embed/shqUxZYmrfU\"\n",
       "</iframe>\n"
      ],
      "text/plain": [
       "<IPython.core.display.HTML object>"
      ]
     },
     "metadata": {},
     "output_type": "display_data"
    }
   ],
   "source": [
    "%%HTML\n",
    "<iframe width=\"900\" height=\"600\"\n",
    "src=\"https://www.youtube.com/embed/shqUxZYmrfU\"\n",
    "</iframe>"
   ]
  },
  {
   "cell_type": "code",
   "execution_count": 16,
   "id": "5efb57b4",
   "metadata": {},
   "outputs": [
    {
     "name": "stdout",
     "output_type": "stream",
     "text": [
      "/usr/local/lib/vmd/vmd_LINUXAMD64: /usr/lib/x86_64-linux-gnu/libGL.so.1: no version information available (required by /usr/local/lib/vmd/vmd_LINUXAMD64)\n",
      "Info) VMD for LINUXAMD64, version 1.9.3 (November 30, 2016)\n",
      "Info) http://www.ks.uiuc.edu/Research/vmd/                         \n",
      "Info) Email questions and bug reports to vmd@ks.uiuc.edu           \n",
      "Info) Please include this reference in published work using VMD:   \n",
      "Info)    Humphrey, W., Dalke, A. and Schulten, K., `VMD - Visual   \n",
      "Info)    Molecular Dynamics', J. Molec. Graphics 1996, 14.1, 33-38.\n",
      "Info) -------------------------------------------------------------\n",
      "Info) Multithreading available, 16 CPUs detected.\n",
      "Info)   CPU features: SSE2 AVX AVX2 FMA \n",
      "Info) Free system memory: 13GB (80%)\n",
      "Info) No CUDA accelerator devices available.\n",
      "Warning) Detected X11 'Composite' extension: if incorrect display occurs\n",
      "Warning) try disabling this X server option.  Most OpenGL drivers\n",
      "Warning) disable stereoscopic display when 'Composite' is enabled.\n",
      "Info) OpenGL renderer: NV137\n",
      "Info)   Features: STENCIL MSAA(4) MDE CVA MTX NPOT PP PS GLSL(OVFS) \n",
      "Info)   Full GLSL rendering mode is available.\n",
      "Info)   Textures: 2-D (16384x16384), 3-D (512x512x512), Multitexture (8)\n",
      "Info) Dynamically loaded 2 plugins in directory:\n",
      "Info) /usr/local/lib/vmd/plugins/LINUXAMD64/molfile\n",
      "after#0\n",
      "vmd > Info) VMD for LINUXAMD64, version 1.9.3 (November 30, 2016)\n",
      "Info) Exiting normally.\n",
      "\u001b[K\r"
     ]
    }
   ],
   "source": [
    "# To check if VMD software is installed correctly, you will see the interface of VMD.\n",
    "\n",
    "!vmd"
   ]
  },
  {
   "cell_type": "markdown",
   "id": "506411fb",
   "metadata": {},
   "source": [
    "## 1.2 To install NAMD software"
   ]
  },
  {
   "cell_type": "code",
   "execution_count": 17,
   "id": "d9a2fff4",
   "metadata": {},
   "outputs": [
    {
     "data": {
      "text/html": [
       "<iframe width=\"900\" height=\"600\" \n",
       "src=\"https://www.youtube.com/embed/fQvOThuypO8\"\n",
       "</iframe>\n"
      ],
      "text/plain": [
       "<IPython.core.display.HTML object>"
      ]
     },
     "metadata": {},
     "output_type": "display_data"
    }
   ],
   "source": [
    "%%HTML\n",
    "<iframe width=\"900\" height=\"600\" \n",
    "src=\"https://www.youtube.com/embed/fQvOThuypO8\"\n",
    "</iframe>"
   ]
  },
  {
   "cell_type": "code",
   "execution_count": null,
   "id": "b46e23ea",
   "metadata": {},
   "outputs": [],
   "source": [
    "# To check NAMD software is correctly installed.\n",
    "\n",
    "!~/Downloads/NAMD_2.14_Linux-x86_64-multicore/namd2"
   ]
  },
  {
   "cell_type": "code",
   "execution_count": null,
   "id": "6b989b51",
   "metadata": {},
   "outputs": [],
   "source": []
  }
 ],
 "metadata": {
  "kernelspec": {
   "display_name": "Python 3 (ipykernel)",
   "language": "python",
   "name": "python3"
  },
  "language_info": {
   "codemirror_mode": {
    "name": "ipython",
    "version": 3
   },
   "file_extension": ".py",
   "mimetype": "text/x-python",
   "name": "python",
   "nbconvert_exporter": "python",
   "pygments_lexer": "ipython3",
   "version": "3.9.12"
  }
 },
 "nbformat": 4,
 "nbformat_minor": 5
}
