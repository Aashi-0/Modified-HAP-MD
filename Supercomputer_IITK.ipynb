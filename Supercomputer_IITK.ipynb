{
 "cells": [
  {
   "cell_type": "markdown",
   "id": "950efa56",
   "metadata": {},
   "source": [
    "<h1><center>Guide to use Supercomputer at IIT-Kanpur</center></h1> "
   ]
  },
  {
   "cell_type": "markdown",
   "id": "5698d547",
   "metadata": {},
   "source": [
    "### Currently IIT Kanpur have following super computers:\n",
    "#### 1. HPC2010 and HPC2013 (https://www.hpc.iitk.ac.in/#hpc)\n",
    "#### 2. NSM Param Sanganak (https://www.hpc.iitk.ac.in/paramsanganak/)\n",
    "\n",
    "#### All the information related to mannual, application form for HPC could be accessed through this link: https://www.hpc.iitk.ac.in/HPC/. For NSM Param sanganak refer to this link: https://www.hpc.iitk.ac.in/paramsanganak/. For getting access to any of the above you need to fill application and R&D form, which need to be submitted to Dak Cell, DORD. Later collect the receipt from Dak Cell and submit it in Copmuter Centre to Mr. Abhay Verma. "
   ]
  },
  {
   "cell_type": "markdown",
   "id": "fc2ae70e",
   "metadata": {},
   "source": [
    "<h2><center> Linux Videos </center></h2>\n",
    "\n",
    "#### Both the supercomputers are linux based so it is importnat to have some basic understanding tp work with linux."
   ]
  },
  {
   "cell_type": "code",
   "execution_count": 39,
   "id": "386499a5",
   "metadata": {},
   "outputs": [
    {
     "data": {
      "text/html": [
       "<iframe width=\"900\" height=\"500\" \n",
       "src=\"https://www.youtube.com/embed/LkSvJoi6TQE\" \n",
       "title=\"YouTube video player\" \n",
       "frameborder=\"0\" \n",
       "allow=\"accelerometer; autoplay; clipboard-write; encrypted-media; gyroscope; picture-in-picture; web-share\" \n",
       "allowfullscreen>\n",
       "</iframe>\n",
       "\n",
       "<h4><center>1. USING TERMINAL</center></h4>\n"
      ],
      "text/plain": [
       "<IPython.core.display.HTML object>"
      ]
     },
     "metadata": {},
     "output_type": "display_data"
    }
   ],
   "source": [
    "\n",
    "%%HTML\n",
    "<iframe width=\"900\" height=\"500\" \n",
    "src=\"https://www.youtube.com/embed/LkSvJoi6TQE\" \n",
    "title=\"YouTube video player\" \n",
    "frameborder=\"0\" \n",
    "allow=\"accelerometer; autoplay; clipboard-write; encrypted-media; gyroscope; picture-in-picture; web-share\" \n",
    "allowfullscreen>\n",
    "</iframe>\n",
    "\n",
    "<h4><center>1. USING TERMINAL</center></h4>"
   ]
  },
  {
   "cell_type": "code",
   "execution_count": 43,
   "id": "e06f735e",
   "metadata": {},
   "outputs": [
    {
     "data": {
      "text/html": [
       "<iframe width=\"900\" height=\"500\" \n",
       "src=\"https://www.youtube.com/embed/rV7Hwi__zZo\" \n",
       "title=\"YouTube video player\" \n",
       "frameborder=\"0\" \n",
       "allow=\"accelerometer; autoplay; clipboard-write; encrypted-media; gyroscope; picture-in-picture; web-share\" \n",
       "allowfullscreen>\n",
       "</iframe>\n",
       "<h4><center>2. BASIC COMMANDS TO NAVIGATE</center></h4>\n"
      ],
      "text/plain": [
       "<IPython.core.display.HTML object>"
      ]
     },
     "metadata": {},
     "output_type": "display_data"
    }
   ],
   "source": [
    "%%HTML\n",
    "<iframe width=\"900\" height=\"500\" \n",
    "src=\"https://www.youtube.com/embed/rV7Hwi__zZo\" \n",
    "title=\"YouTube video player\" \n",
    "frameborder=\"0\" \n",
    "allow=\"accelerometer; autoplay; clipboard-write; encrypted-media; gyroscope; picture-in-picture; web-share\" \n",
    "allowfullscreen>\n",
    "</iframe>\n",
    "<h4><center>2. BASIC COMMANDS TO NAVIGATE</center></h4>"
   ]
  },
  {
   "cell_type": "code",
   "execution_count": 44,
   "id": "dd869a39",
   "metadata": {},
   "outputs": [
    {
     "data": {
      "text/html": [
       "<iframe \n",
       "width=\"900\" height=\"500\" \n",
       "src=\"https://www.youtube.com/embed/aWvZKiZqvOY\" \n",
       "title=\"YouTube video player\" \n",
       "frameborder=\"0\" \n",
       "allow=\"accelerometer; autoplay; clipboard-write; encrypted-media; gyroscope; picture-in-picture; web-share\" \n",
       "allowfullscreen>\n",
       "</iframe>\n",
       "<h4><center>3. CREATING FOLDERS</center></h4>  \n"
      ],
      "text/plain": [
       "<IPython.core.display.HTML object>"
      ]
     },
     "metadata": {},
     "output_type": "display_data"
    }
   ],
   "source": [
    "%%HTML\n",
    "<iframe \n",
    "width=\"900\" height=\"500\" \n",
    "src=\"https://www.youtube.com/embed/aWvZKiZqvOY\" \n",
    "title=\"YouTube video player\" \n",
    "frameborder=\"0\" \n",
    "allow=\"accelerometer; autoplay; clipboard-write; encrypted-media; gyroscope; picture-in-picture; web-share\" \n",
    "allowfullscreen>\n",
    "</iframe>\n",
    "<h4><center>3. CREATING FOLDERS</center></h4>  "
   ]
  },
  {
   "cell_type": "code",
   "execution_count": 45,
   "id": "fbe3003e",
   "metadata": {},
   "outputs": [
    {
     "data": {
      "text/html": [
       "<iframe \n",
       "width=\"900\" height=\"500\" \n",
       "src=\"https://www.youtube.com/embed/V7laggm16mc\" \n",
       "title=\"YouTube video player\" \n",
       "frameborder=\"0\" \n",
       "allow=\"accelerometer; autoplay; clipboard-write; encrypted-media; gyroscope; picture-in-picture; web-share\" \n",
       "allowfullscreen>\n",
       "</iframe>\n",
       "<h4><center>4. UNDERSTANDING USERS AND PERMISSION</center></h4>\n"
      ],
      "text/plain": [
       "<IPython.core.display.HTML object>"
      ]
     },
     "metadata": {},
     "output_type": "display_data"
    }
   ],
   "source": [
    "%%HTML\n",
    "<iframe \n",
    "width=\"900\" height=\"500\" \n",
    "src=\"https://www.youtube.com/embed/V7laggm16mc\" \n",
    "title=\"YouTube video player\" \n",
    "frameborder=\"0\" \n",
    "allow=\"accelerometer; autoplay; clipboard-write; encrypted-media; gyroscope; picture-in-picture; web-share\" \n",
    "allowfullscreen>\n",
    "</iframe>\n",
    "<h4><center>4. UNDERSTANDING USERS AND PERMISSION</center></h4>"
   ]
  },
  {
   "cell_type": "code",
   "execution_count": 46,
   "id": "c1c733ad",
   "metadata": {},
   "outputs": [
    {
     "data": {
      "text/html": [
       "<iframe \n",
       "width=\"900\" height=\"450\" \n",
       "src=\"https://www.youtube.com/embed/QPWdUkgGd3I\" \n",
       "title=\"YouTube video player\" \n",
       "frameborder=\"0\" \n",
       "allow=\"accelerometer; autoplay; clipboard-write; encrypted-media; gyroscope; picture-in-picture; web-share\" \n",
       "allowfullscreen>\n",
       "</iframe>\n",
       "<h4><center>5. HOW TO EDIT TEXT FILES</center></h4>\n"
      ],
      "text/plain": [
       "<IPython.core.display.HTML object>"
      ]
     },
     "metadata": {},
     "output_type": "display_data"
    }
   ],
   "source": [
    "%%HTML\n",
    "<iframe \n",
    "width=\"900\" height=\"450\" \n",
    "src=\"https://www.youtube.com/embed/QPWdUkgGd3I\" \n",
    "title=\"YouTube video player\" \n",
    "frameborder=\"0\" \n",
    "allow=\"accelerometer; autoplay; clipboard-write; encrypted-media; gyroscope; picture-in-picture; web-share\" \n",
    "allowfullscreen>\n",
    "</iframe>\n",
    "<h4><center>5. HOW TO EDIT TEXT FILES</center></h4>"
   ]
  },
  {
   "cell_type": "code",
   "execution_count": 51,
   "id": "c325a089",
   "metadata": {},
   "outputs": [
    {
     "data": {
      "text/html": [
       "<iframe \n",
       "width=\"900\" height=\"450\" \n",
       "src=\"https://www.youtube.com/embed/dAcbPeVdv0s\" \n",
       "title=\"YouTube video player\" \n",
       "frameborder=\"0\" \n",
       "allow=\"accelerometer; autoplay; clipboard-write; encrypted-media; gyroscope; picture-in-picture; web-share\" \n",
       "allowfullscreen>\n",
       "</iframe>\n",
       "<h4><center>6. Environment Variables</center></h4>\n"
      ],
      "text/plain": [
       "<IPython.core.display.HTML object>"
      ]
     },
     "metadata": {},
     "output_type": "display_data"
    }
   ],
   "source": [
    "%%HTML\n",
    "<iframe \n",
    "width=\"900\" height=\"450\" \n",
    "src=\"https://www.youtube.com/embed/dAcbPeVdv0s\" \n",
    "title=\"YouTube video player\" \n",
    "frameborder=\"0\" \n",
    "allow=\"accelerometer; autoplay; clipboard-write; encrypted-media; gyroscope; picture-in-picture; web-share\" \n",
    "allowfullscreen>\n",
    "</iframe>\n",
    "<h4><center>6. Environment Variables</center></h4>"
   ]
  },
  {
   "cell_type": "code",
   "execution_count": 52,
   "id": "813ab70c",
   "metadata": {},
   "outputs": [
    {
     "data": {
      "text/html": [
       "<iframe \n",
       "width=\"900\" height=\"450\" \n",
       "src=\"https://www.youtube.com/embed/-_rXJlV65Dc?start=86\" \n",
       "title=\"YouTube video player\" \n",
       "frameborder=\"0\" \n",
       "allow=\"accelerometer; autoplay; clipboard-write; encrypted-media; gyroscope; picture-in-picture; web-share\" \n",
       "allowfullscreen>\n",
       "</iframe>\n",
       "<h4><center>7. HOW TO DEFINE ALIASES</center></h4>\n"
      ],
      "text/plain": [
       "<IPython.core.display.HTML object>"
      ]
     },
     "metadata": {},
     "output_type": "display_data"
    }
   ],
   "source": [
    "%%HTML\n",
    "<iframe \n",
    "width=\"900\" height=\"450\" \n",
    "src=\"https://www.youtube.com/embed/-_rXJlV65Dc?start=86\" \n",
    "title=\"YouTube video player\" \n",
    "frameborder=\"0\" \n",
    "allow=\"accelerometer; autoplay; clipboard-write; encrypted-media; gyroscope; picture-in-picture; web-share\" \n",
    "allowfullscreen>\n",
    "</iframe>\n",
    "<h4><center>7. HOW TO DEFINE ALIASES</center></h4>\n"
   ]
  },
  {
   "cell_type": "markdown",
   "id": "7c7979c3",
   "metadata": {},
   "source": [
    "## HOW TO ACCESS HPC2013"
   ]
  },
  {
   "cell_type": "code",
   "execution_count": null,
   "id": "3f07b056",
   "metadata": {},
   "outputs": [],
   "source": [
    "# Use the following command in terminal to access HPC2013/2010.\n",
    "# For HPC2013:\n",
    "ssh -X <username>@hpc2013.hpc.iitk.ac.in \n",
    "\n",
    "# For HPC2010:\n",
    "ssh -X <username>@hpc2010.hpc.iitk.ac.in"
   ]
  },
  {
   "cell_type": "code",
   "execution_count": null,
   "id": "60c468fc",
   "metadata": {},
   "outputs": [],
   "source": []
  }
 ],
 "metadata": {
  "kernelspec": {
   "display_name": "Python 3 (ipykernel)",
   "language": "python",
   "name": "python3"
  },
  "language_info": {
   "codemirror_mode": {
    "name": "ipython",
    "version": 3
   },
   "file_extension": ".py",
   "mimetype": "text/x-python",
   "name": "python",
   "nbconvert_exporter": "python",
   "pygments_lexer": "ipython3",
   "version": "3.9.12"
  }
 },
 "nbformat": 4,
 "nbformat_minor": 5
}
